











import pandas as pd
import xarray as xr
import zarr
import fsspec
import matplotlib.pyplot as plt
import cartopy.crs as ccrs





df = pd.read_csv('https://storage.googleapis.com/cmip6/cmip6-zarr-consolidated-stores.csv')
df.head()





df_ts = df.query("activity_id=='CMIP' & table_id == 'Amon' & variable_id == 'tas' & experiment_id == 'historical'")
df_ts





df_ts_au = df_ts.query('institution_id == "CSIRO-ARCCSS"')
df_ts_au





zstore = df_ts_au.zstore.values[0]
print(zstore)





mapper = fsspec.get_mapper(zstore)
dt = xr.open_zarr(mapper, consolidated=True)
dt





dt.tas.isel(time=0).plot()





fig, axis = plt.subplots(1, 1, subplot_kw=dict(projection=ccrs.Robinson()))

dt.tas.isel(time=0).plot(
    ax=axis,
    transform=ccrs.PlateCarree(), 
    cbar_kwargs={"orientation": "horizontal", "shrink": 0.5},
    robust=True,
    cmap="magma"
)
axis.coastlines() 
axis.set_title("January 1850")


























from pyesgf.search import SearchConnection





conn = SearchConnection('https://esgf.ceda.ac.uk/esg-search',distrib=False)





ctx = conn.new_context(
    facets='project,experiment_id',
    project='CMIP6',
    table_id='Amon',
    institution_id="CSIRO-ARCCSS",
    experiment_id='historical',
    source_id='ACCESS-CM2',
    variable='tas',
    variant_label='r1i1p1f1',
)





result = ctx.search()[0]
files = result.file_context().search()
opendap_url=files[0].opendap_url
opendap_url


de = xr.open_dataset(opendap_url,chunks={'time':480})
de





de.tas.isel(time=0).plot()





fig, axis = plt.subplots(1, 1, subplot_kw=dict(projection=ccrs.Robinson()))

de.tas.isel(time=0).plot(
    ax=axis,
    transform=ccrs.PlateCarree(), 
    cbar_kwargs={"orientation": "horizontal", "shrink": 0.5},
    robust=True,
    cmap="magma"
)
axis.coastlines() 
axis.set_title("January 1850")








import intake
import warnings
warnings.filterwarnings("ignore")





cat_url = "https://storage.googleapis.com/cmip6/pangeo-cmip6.json"
col = intake.open_esm_datastore(cat_url)
col





cat = col.search(
    table_id='Amon',
    institution_id="CSIRO-ARCCSS",
    experiment_id=['historical'],
    source_id='ACCESS-CM2',
    variable_id='tas',
    member_id='r1i1p1f1',
    grid_label='gn')
cat.df





dset_dict = cat.to_dataset_dict(zarr_kwargs={'consolidated': True})
list(dset_dict.keys())





ds = dset_dict['CMIP.CSIRO-ARCCSS.ACCESS-CM2.historical.Amon.gn']
ds





ds.tas.isel(time=0).plot()





fig, axis = plt.subplots(1, 1, subplot_kw=dict(projection=ccrs.Robinson()))

ds.tas.isel(time=0).plot(
    ax=axis,
    transform=ccrs.PlateCarree(), 
    cbar_kwargs={"orientation": "horizontal", "shrink": 0.5},
    robust=True,
    cmap="magma"
)
axis.coastlines() 
axis.set_title("January 1850")
